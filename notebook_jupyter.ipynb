{
 "cells": [
  {
   "cell_type": "markdown",
   "id": "29240793",
   "metadata": {},
   "source": [
    "Primeiramente, comecei estudando scikit-learn para compreender os fundamentos de Machine Learning. Atualmente, tenho noção de alguns modelos como:\n",
    "\n",
    "LinearRegression do módulo linear_model\n",
    "\n",
    "Ridge e RidgeCV\n",
    "\n",
    "Variantes como RidgeClassifier\n",
    "\n",
    "Percebi que meu ritmo de aprendizado estava lento, então decidi adotar uma abordagem mais prática: aprender desenvolvendo e aplicando projetos reais. Vai ser mais desafiador, mas acredito que será muito mais produtivo."
   ]
  },
  {
   "cell_type": "markdown",
   "id": "f944ae69",
   "metadata": {},
   "source": [
    "Neste projeto, estou aplicando os conhecimentos de forma prática. Até agora, executei os seguintes passos:\n",
    "\n",
    "Criação dos modelos\n",
    "\n",
    "Desenvolvi os arquivos de modelo (.pkl) que serão utilizados no projeto.\n",
    "\n",
    "Estrutura do back-end com Flask\n",
    "\n",
    "Estruturei a base que a biblioteca Flask vai utilizar para integrar o back-end com o front-end e servir os arquivos."
   ]
  },
  {
   "cell_type": "markdown",
   "id": "64207912",
   "metadata": {},
   "source": []
  }
 ],
 "metadata": {
  "language_info": {
   "name": "python"
  }
 },
 "nbformat": 4,
 "nbformat_minor": 5
}
