{
 "cells": [
  {
   "cell_type": "markdown",
   "id": "06e3b22c",
   "metadata": {},
   "source": [
    "Olá, eu sou o Desenvolvedor e Cientista de Dados Kelvyn, esse é meu primeiro projeto que eu estou fazendo que realmente vai servir para alguma coisa e que eu realmente quero terminar, eu gostei bastante dessa ideia que tive e vou tentar meu máximo para fazer isso funcionar, eu descobri esse jupyter no meio do desenvolvimento então vou explicar o que já vinha vindo antes de você aparecer aqui:"
   ]
  },
  {
   "cell_type": "markdown",
   "id": "29240793",
   "metadata": {},
   "source": [
    "Primeiramente, eu comecei estudando scikit-learn para compreender fundamentos de Machine Learning, atualmente tenho uma noção de alguns modelos como o LinearRegression de linear_models, do Ridge e RidgeCV, e da variantes não popular RidgeClassifier, mas eu estava num ritmo muito lento, então eu decidi uma abordagem diferente, e decidi que vou tentar compreender esses conceitos desenvolvendo e aplicando em projetos práticos, vai ser mais dificil, mas acredito que vai ser muito mais produtivo, então agora o que eu fiz até agora que estou escrevendo isso:\n",
    "\n",
    "1 - desenvolvi os arquivos \"pkl\" que estão no projeto.  \n",
    "2 - desenvolvi a estruta que a biblioteca flask vai utilizar dentro do projeto para eu conseguir puxar templates e afins\n",
    "\n",
    "Em resumo é isso, não foi muita coisa mas nesse meio tempo, mas foram bastante coisa que aprendi, espero poder ter alguma vaga num estagio bom em breve, realmente quero me tornar um profissional ótimo."
   ]
  },
  {
   "cell_type": "markdown",
   "id": "f944ae69",
   "metadata": {},
   "source": [
    "Agora vou começar a desenvolver o HTMl e deixar a página um pouco mais atraente.\n",
    "23/07/2025 - 01:10 - Fim da anotação"
   ]
  },
  {
   "cell_type": "markdown",
   "id": "64207912",
   "metadata": {},
   "source": []
  }
 ],
 "metadata": {
  "language_info": {
   "name": "python"
  }
 },
 "nbformat": 4,
 "nbformat_minor": 5
}
